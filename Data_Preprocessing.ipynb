{
 "cells": [
  {
   "cell_type": "code",
   "execution_count": null,
   "metadata": {},
   "outputs": [],
   "source": [
    "import pandas as pd\n",
    "import numpy as np \n",
    "import matplotlib.pyplot as plt\n",
    "import os\n",
    "import time"
   ]
  },
  {
   "cell_type": "markdown",
   "metadata": {},
   "source": [
    "### Guideline\n",
    "To use this notebook, simply replace the dataset variable with the year you would like to preprocess\n",
    "\n",
    "Make sure to save this notebook in the same directory as the datasets"
   ]
  },
  {
   "cell_type": "code",
   "execution_count": null,
   "metadata": {},
   "outputs": [],
   "source": [
    "dataset = \"dataset-7k-2010.txt\"\n",
    "dataset_dir = os.path.join(\"./\", dataset)\n",
    "dataset_dir"
   ]
  },
  {
   "cell_type": "code",
   "execution_count": null,
   "metadata": {},
   "outputs": [],
   "source": [
    "data = pd.read_csv(dataset_dir, sep=\"\\t\", header=None)\n",
    "data.columns= [\"album_id\", \"album_name\", \"track_id\", \"track_name\", \"acousticness\", \"danceability\", \"duration (ms)\", \\\n",
    "               \"energy\", \"instrumentalness\", \"key\", \"liveness\", \"loudness\", \"mode\", \"speechiness\", \"tempo\", \\\n",
    "               \"time_signature\", \"valence\"]"
   ]
  },
  {
   "cell_type": "code",
   "execution_count": null,
   "metadata": {},
   "outputs": [],
   "source": [
    "data.head(15)"
   ]
  },
  {
   "cell_type": "code",
   "execution_count": null,
   "metadata": {},
   "outputs": [],
   "source": [
    "unique_albums = list(data['album_name'].unique())\n",
    "unique_albums"
   ]
  },
  {
   "cell_type": "code",
   "execution_count": null,
   "metadata": {},
   "outputs": [],
   "source": [
    "print(len(unique_albums))"
   ]
  },
  {
   "cell_type": "code",
   "execution_count": null,
   "metadata": {},
   "outputs": [],
   "source": [
    "num_albums = data['album_name'].nunique()\n",
    "num_albums"
   ]
  },
  {
   "cell_type": "code",
   "execution_count": null,
   "metadata": {},
   "outputs": [],
   "source": [
    "data_grouped = data.groupby(['album_name'])"
   ]
  },
  {
   "cell_type": "markdown",
   "metadata": {},
   "source": [
    "### Initial Data Exploration \n",
    "Please comment out the next two lines for processing any other data besides 2010\n",
    "\n",
    "Alternatively, you can test out other albums in the corresponding year"
   ]
  },
  {
   "cell_type": "code",
   "execution_count": null,
   "metadata": {},
   "outputs": [],
   "source": [
    "# For testing (2010)\n",
    "bruno_mars_album = data_grouped.get_group('Doo-Wops & Hooligans')\n",
    "bruno_mars_album"
   ]
  },
  {
   "cell_type": "code",
   "execution_count": null,
   "metadata": {},
   "outputs": [],
   "source": [
    "acousticness = bruno_mars_album['acousticness']\n",
    "feature_values = np.array(acousticness)\n",
    "feature_values"
   ]
  },
  {
   "cell_type": "markdown",
   "metadata": {},
   "source": [
    "To keep, vector of features and album_name and album_id (no need for track_id and track_name because for interpolated data it won't have the appropriate values"
   ]
  },
  {
   "cell_type": "code",
   "execution_count": null,
   "metadata": {},
   "outputs": [],
   "source": [
    "indexes = pd.Series(range(0, 24))"
   ]
  },
  {
   "cell_type": "code",
   "execution_count": null,
   "metadata": {},
   "outputs": [],
   "source": [
    "def construct_feature_vector(feature_values):\n",
    "    \"\"\"\n",
    "    @params: feature_values: the desired feature/album attribute to be expanded and filled with nans\n",
    "    @returns: feat_vector: the resulting feature vector\n",
    "    \"\"\"\n",
    "    album_size = len(feature_values)\n",
    "#     print(album_size)\n",
    "    fv_size = 24\n",
    "    feat_vector = []\n",
    "    attribute_index = 0\n",
    "    step_size = int(24 / album_size)\n",
    "    if album_size <= 12:\n",
    "        for i in range(fv_size):\n",
    "            if (i % step_size) == 0:\n",
    "                if (attribute_index >= len(feature_values)):\n",
    "                    feat_vector.append(np.nan)\n",
    "                    continue\n",
    "                feat_vector.append(feature_values[attribute_index])\n",
    "                attribute_index += 1\n",
    "            else:\n",
    "                feat_vector.append(np.nan)\n",
    "    elif (album_size > 12 and album_size < 24):\n",
    "        # equally space the first x numbers\n",
    "        remaining_feats = (album_size - 12) * 2\n",
    "#         print(\"Rem: {}\".format(remaining_feats))\n",
    "        spaced_feats = album_size - remaining_feats\n",
    "#         print(\"Spaced: {}\".format(spaced_feats))\n",
    "        for i in range(spaced_feats * 2):\n",
    "            if (i % 2) == 0:\n",
    "                feat_vector.append(feature_values[attribute_index])\n",
    "                attribute_index += 1\n",
    "            else:\n",
    "                feat_vector.append(np.nan)\n",
    "#             print(len(feat_vector))\n",
    "        for j in range(remaining_feats):\n",
    "            feat_vector.append(feature_values[attribute_index])\n",
    "            attribute_index += 1\n",
    "    elif (album_size == 24):\n",
    "        feat_vector = feature_values.copy()\n",
    "    elif (album_size > 24):\n",
    "        feat_vector = feature_values[:24]\n",
    "    return pd.Series(feat_vector, index=indexes)\n",
    "        "
   ]
  },
  {
   "cell_type": "code",
   "execution_count": null,
   "metadata": {},
   "outputs": [],
   "source": [
    "# testcases\n",
    "smallerthan12 = [i for i in range(8)]\n",
    "test_smallerthan12 = construct_feature_vector(smallerthan12)\n",
    "largerthan12 = [i for i in range(15)]\n",
    "test_largerthan12 = construct_feature_vector(largerthan12)\n",
    "exactly24 = [i for i in range(24)]\n",
    "test_exactly24 = construct_feature_vector(exactly24)\n",
    "largerlist = [i for i in range(30)]\n",
    "test_greater24 = construct_feature_vector(largerlist)\n",
    "\n",
    "print(test_smallerthan12, test_largerthan12, test_exactly24, test_greater24)"
   ]
  },
  {
   "cell_type": "code",
   "execution_count": null,
   "metadata": {},
   "outputs": [],
   "source": [
    "testvector = construct_feature_vector(feature_values)\n",
    "testvector"
   ]
  },
  {
   "cell_type": "code",
   "execution_count": null,
   "metadata": {},
   "outputs": [],
   "source": [
    "new_group = data.groupby(['album_name', 'album_id'])\n",
    "new_group"
   ]
  },
  {
   "cell_type": "markdown",
   "metadata": {},
   "source": [
    "### Testing the data\n",
    "Comment out the following 5 groups of code for other datasets or alternatively, can test with other albums "
   ]
  },
  {
   "cell_type": "code",
   "execution_count": null,
   "metadata": {},
   "outputs": [],
   "source": [
    "recovery_albums = data_grouped.get_group('Recovery')\n",
    "recovery_albums"
   ]
  },
  {
   "cell_type": "code",
   "execution_count": null,
   "metadata": {},
   "outputs": [],
   "source": [
    "eminem_album = new_group.get_group(('Recovery', '2bn6QpvG94QJkQTETzjTCs'))\n",
    "eminem_album"
   ]
  },
  {
   "cell_type": "code",
   "execution_count": null,
   "metadata": {},
   "outputs": [],
   "source": [
    "# For testing (2010)\n",
    "eminem_acc = list(eminem_album['acousticness'])\n",
    "eminem_acc_vector = construct_feature_vector(eminem_acc)\n",
    "eminem_acc_vector"
   ]
  },
  {
   "cell_type": "code",
   "execution_count": null,
   "metadata": {},
   "outputs": [],
   "source": [
    "quad_interpolated = eminem_acc_vector.interpolate('quadratic')\n",
    "linear_interpolated = eminem_acc_vector.interpolate('linear')\n",
    "fd_interpolated = eminem_acc_vector.interpolate('from_derivatives')\n",
    "poly_interpolated = eminem_acc_vector.interpolate('polynomial', order=5)"
   ]
  },
  {
   "cell_type": "code",
   "execution_count": null,
   "metadata": {},
   "outputs": [],
   "source": [
    "plt.figure(1)\n",
    "plt.plot(indexes, quad_interpolated)\n",
    "plt.figure(2)\n",
    "plt.plot(indexes, linear_interpolated)\n",
    "plt.figure(3)\n",
    "plt.plot(indexes, fd_interpolated)\n",
    "plt.figure(4)\n",
    "plt.plot(indexes, poly_interpolated)"
   ]
  },
  {
   "cell_type": "markdown",
   "metadata": {},
   "source": [
    "### Preparing for creating the dataframe"
   ]
  },
  {
   "cell_type": "code",
   "execution_count": null,
   "metadata": {},
   "outputs": [],
   "source": [
    "col_list = list(data.columns)\n",
    "col_list"
   ]
  },
  {
   "cell_type": "code",
   "execution_count": null,
   "metadata": {},
   "outputs": [],
   "source": [
    "col_list.remove('track_name')\n",
    "col_list.remove('track_id')"
   ]
  },
  {
   "cell_type": "code",
   "execution_count": null,
   "metadata": {},
   "outputs": [],
   "source": [
    "col_list"
   ]
  },
  {
   "cell_type": "code",
   "execution_count": null,
   "metadata": {},
   "outputs": [],
   "source": [
    "filtered_data = data[[category for category in col_list]]\n",
    "filtered_data"
   ]
  },
  {
   "cell_type": "code",
   "execution_count": null,
   "metadata": {},
   "outputs": [],
   "source": [
    "filtered_grouped_data = filtered_data.groupby(['album_id', 'album_name'])\n",
    "groups = list(filtered_grouped_data.groups.keys())\n",
    "feature_cols = col_list[2:]"
   ]
  },
  {
   "cell_type": "code",
   "execution_count": null,
   "metadata": {},
   "outputs": [],
   "source": [
    "def expand_to_vector(category):\n",
    "    vector = []\n",
    "    for i in range(24):\n",
    "        vector.append(category)\n",
    "    return vector"
   ]
  },
  {
   "cell_type": "code",
   "execution_count": null,
   "metadata": {},
   "outputs": [],
   "source": [
    "def interpolate_values(feat_vector):\n",
    "    feat_vector = feat_vector.interpolate()\n",
    "    return feat_vector"
   ]
  },
  {
   "cell_type": "markdown",
   "metadata": {},
   "source": [
    "### Creating the resultant dataframe"
   ]
  },
  {
   "cell_type": "code",
   "execution_count": null,
   "metadata": {},
   "outputs": [],
   "source": [
    "resultdf = pd.DataFrame(columns=col_list)\n",
    "frames = []\n",
    "tic = time.clock()\n",
    "for i, group in enumerate(groups):\n",
    "    temp_dict = {}\n",
    "    album = filtered_grouped_data.get_group(group)\n",
    "    a_id = group[0]\n",
    "    a_name = group[1]\n",
    "    album_id_v = expand_to_vector(a_id)\n",
    "    album_name_v = expand_to_vector(a_name)\n",
    "    temp_dict.update({'album_id': album_id_v, 'album_name': album_name_v})\n",
    "    for feature in feature_cols:\n",
    "        album_features = list(album[feature])\n",
    "        album_feat_vector = construct_feature_vector(album_features)\n",
    "        album_feat_interpolated = interpolate_values(album_feat_vector)\n",
    "        temp_dict.update({feature: album_feat_interpolated})\n",
    "    temp_df = pd.DataFrame.from_dict(temp_dict)\n",
    "    frames.append(temp_df)\n",
    "    resultdf = pd.concat(frames, ignore_index=True)\n",
    "    if (i % 50 == 0):\n",
    "        print(\"Finished {} albums\".format(i))\n",
    "#     if (i > 10):\n",
    "#         break\n",
    "toc = time.clock()\n",
    "exec_time = toc - tic\n",
    "print(\"Execution time is {}\".format(exec_time))"
   ]
  },
  {
   "cell_type": "markdown",
   "metadata": {},
   "source": [
    "### Result\n",
    "Please make sure to change the result filename to the appropriate year"
   ]
  },
  {
   "cell_type": "code",
   "execution_count": null,
   "metadata": {},
   "outputs": [],
   "source": [
    "result_filename = \"2010-converted-dataset.csv\""
   ]
  },
  {
   "cell_type": "code",
   "execution_count": null,
   "metadata": {},
   "outputs": [],
   "source": [
    "resultdf.to_csv(result_filename, sep='\\t')"
   ]
  },
  {
   "cell_type": "code",
   "execution_count": null,
   "metadata": {},
   "outputs": [],
   "source": []
  }
 ],
 "metadata": {
  "kernelspec": {
   "display_name": "Python 3",
   "language": "python",
   "name": "python3"
  },
  "language_info": {
   "codemirror_mode": {
    "name": "ipython",
    "version": 3
   },
   "file_extension": ".py",
   "mimetype": "text/x-python",
   "name": "python",
   "nbconvert_exporter": "python",
   "pygments_lexer": "ipython3",
   "version": "3.6.7"
  }
 },
 "nbformat": 4,
 "nbformat_minor": 2
}
